{
 "cells": [
  {
   "cell_type": "code",
   "execution_count": 3,
   "metadata": {},
   "outputs": [],
   "source": [
    "def makeCoffee ():\n",
    "    print (\"siapkan kopi\")\n",
    "    print (\"siapkan gelas\")\n",
    "    print (\"masukkan kopi ke gelas diberi air panas\")\n",
    "    print (\"kopi siap\")"
   ]
  },
  {
   "cell_type": "code",
   "execution_count": 4,
   "metadata": {},
   "outputs": [
    {
     "name": "stdout",
     "output_type": "stream",
     "text": [
      "siapkan kopi\n",
      "siapkan gelas\n",
      "masukkan kopi ke gelas diberi air panas\n",
      " kopi siap\n"
     ]
    }
   ],
   "source": [
    "makeCoffee()"
   ]
  },
  {
   "cell_type": "code",
   "execution_count": 5,
   "metadata": {},
   "outputs": [],
   "source": [
    "def my_function():\n",
    "    \"This print a string\"\n",
    "    print (\"Hello from a function\")"
   ]
  },
  {
   "cell_type": "code",
   "execution_count": 6,
   "metadata": {},
   "outputs": [],
   "source": [
    "def printme ( str ):\n",
    "    \"This prints a passed string into this function\"\n",
    "    print (str)\n",
    "    return"
   ]
  },
  {
   "cell_type": "code",
   "execution_count": 8,
   "metadata": {},
   "outputs": [
    {
     "name": "stdout",
     "output_type": "stream",
     "text": [
      "i'm first call to user defined function\n",
      "Again second call to the same function\n"
     ]
    }
   ],
   "source": [
    "# Function definition is here\n",
    "def printme ( str ):\n",
    "    \"This prints a passed string into this function\"\n",
    "    print(str)\n",
    "    return;\n",
    "\n",
    "#Now you can call printme fuunction\n",
    "printme (\"i'm first call to user defined function\")\n",
    "printme (\"Again second call to the same function\")"
   ]
  },
  {
   "cell_type": "code",
   "execution_count": 9,
   "metadata": {},
   "outputs": [
    {
     "name": "stdout",
     "output_type": "stream",
     "text": [
      " Hacktiv8 \n"
     ]
    }
   ],
   "source": [
    "# Function definition is here\n",
    "def printme  ( str ):\n",
    "    \"This prints a passed string into this function\"\n",
    "    print (str)\n",
    "    return;\n",
    "\n",
    "# Now you can call printme function\n",
    "printme (str= \" Hacktiv8 \")"
   ]
  },
  {
   "cell_type": "code",
   "execution_count": 14,
   "metadata": {},
   "outputs": [
    {
     "name": "stdout",
     "output_type": "stream",
     "text": [
      "Name: galih p\n",
      "Age: 24\n",
      "Name: galih p\n",
      "Age: 24\n"
     ]
    }
   ],
   "source": [
    "# Function definition is here\n",
    "def printinfo ( name, age = 24 ):\n",
    "    \"This prints a passed info into this function\"\n",
    "    print (\"Name:\", name)\n",
    "    print (\"Age:\", age)\n",
    "    return;\n",
    "\n",
    "# Now you can call printinfo function\n",
    "printinfo (age=24, name=\"galih p\")\n",
    "printinfo (name=\"galih p\")"
   ]
  },
  {
   "cell_type": "code",
   "execution_count": 15,
   "metadata": {},
   "outputs": [
    {
     "name": "stdout",
     "output_type": "stream",
     "text": [
      "The youngest child is H3\n"
     ]
    }
   ],
   "source": [
    "def my_function (*kids):\n",
    "    print (\"The youngest child is \" + kids[2])\n",
    "    \n",
    "my_function (\"H1\", \"H2\", \"H3\")"
   ]
  },
  {
   "cell_type": "code",
   "execution_count": 18,
   "metadata": {},
   "outputs": [
    {
     "name": "stdout",
     "output_type": "stream",
     "text": [
      "Output is:\n",
      "10\n",
      "Output is:\n",
      "70\n",
      "60\n",
      "50\n"
     ]
    }
   ],
   "source": [
    "# Function definition is here\n",
    "def printinfo ( arg1, *vartuple ):\n",
    "    \"This prints is a variable passed arguments\"\n",
    "    print (\"Output is:\")\n",
    "    print (arg1)\n",
    "    for var in vartuple:\n",
    "        print(var)\n",
    "    return;\n",
    "    \n",
    "# Now you can call printinfo function\n",
    "printinfo(10)\n",
    "printinfo(70, 60,50)"
   ]
  },
  {
   "cell_type": "code",
   "execution_count": 19,
   "metadata": {},
   "outputs": [
    {
     "name": "stdout",
     "output_type": "stream",
     "text": [
      "Value of total:  30\n",
      "Value of total :  40\n"
     ]
    }
   ],
   "source": [
    "# Function definition is here\n",
    "sum = lambda arg1, arg2: arg1 + arg2;\n",
    "\n",
    "# Now you can call sum as a function\n",
    "print (\"Value of total: \", sum (10, 20))\n",
    "print (\"Value of total : \", sum (20,20))"
   ]
  },
  {
   "cell_type": "code",
   "execution_count": 23,
   "metadata": {},
   "outputs": [
    {
     "name": "stdout",
     "output_type": "stream",
     "text": [
      "125\n",
      "125\n"
     ]
    }
   ],
   "source": [
    "def cube(y):\n",
    "    return y*y*y;\n",
    "\n",
    "g = lambda x: x*x*x\n",
    "\n",
    "print(cube(5))\n",
    "\n",
    "print(g(5))\n"
   ]
  },
  {
   "cell_type": "code",
   "execution_count": null,
   "metadata": {},
   "outputs": [],
   "source": [
    "# Function definition is here\n",
    "def sum( arg1, arg2 ):\n",
    "    # Add both the parameters and return them.\"\"\n",
    "    total = arg1 + arg2\n",
    "    total2 = total * arg2\n",
    "    print (\"Inside the function :\", total)\n",
    "    return total2;\n",
    "\n",
    "#Now you can call\n",
    "total = sum ( 10, 20);\n",
    "print (\"Outside \")"
   ]
  },
  {
   "cell_type": "code",
   "execution_count": 45,
   "metadata": {},
   "outputs": [],
   "source": [
    "jumlahKelinci = 20\n",
    "\n",
    "def jumlahA():\n",
    "    jumlahKucing = 30\n",
    "    print (jumlahKelinci + jumlahKucing)\n",
    "\n",
    "def jumlahB():\n",
    "    jumlahAyam = 40\n",
    "    print (jumlahAyam + jumlahKelinci)"
   ]
  },
  {
   "cell_type": "code",
   "execution_count": 40,
   "metadata": {},
   "outputs": [
    {
     "name": "stdout",
     "output_type": "stream",
     "text": [
      "50\n"
     ]
    }
   ],
   "source": [
    "jumlahA()"
   ]
  },
  {
   "cell_type": "code",
   "execution_count": 46,
   "metadata": {},
   "outputs": [
    {
     "name": "stdout",
     "output_type": "stream",
     "text": [
      "60\n"
     ]
    }
   ],
   "source": [
    "jumlahB()"
   ]
  },
  {
   "cell_type": "code",
   "execution_count": 47,
   "metadata": {},
   "outputs": [
    {
     "name": "stdout",
     "output_type": "stream",
     "text": [
      "Inside the function local total : 30\n",
      "Outside the function global total : 0\n"
     ]
    }
   ],
   "source": [
    "total = 0; # This os global variable.\n",
    "# Function definition is here \n",
    "\n",
    "def sum ( arg1, arg2 ):\n",
    "    # Add both the parameters and return them.\"\"\n",
    "    total = arg1 + arg2; # Here total is local variable.\n",
    "    print(\"Inside the function local total :\", total)\n",
    "    return total;\n",
    "\n",
    "# Now you can call sum function\n",
    "sum( 10, 20);\n",
    "print (\"Outside the function global total :\", total)"
   ]
  },
  {
   "cell_type": "code",
   "execution_count": null,
   "metadata": {},
   "outputs": [],
   "source": []
  },
  {
   "cell_type": "code",
   "execution_count": null,
   "metadata": {},
   "outputs": [],
   "source": []
  },
  {
   "cell_type": "code",
   "execution_count": null,
   "metadata": {},
   "outputs": [],
   "source": []
  },
  {
   "cell_type": "code",
   "execution_count": null,
   "metadata": {},
   "outputs": [],
   "source": []
  },
  {
   "cell_type": "code",
   "execution_count": null,
   "metadata": {},
   "outputs": [],
   "source": []
  },
  {
   "cell_type": "code",
   "execution_count": null,
   "metadata": {},
   "outputs": [],
   "source": []
  },
  {
   "cell_type": "code",
   "execution_count": null,
   "metadata": {},
   "outputs": [],
   "source": []
  }
 ],
 "metadata": {
  "kernelspec": {
   "display_name": "Python 3",
   "language": "python",
   "name": "python3"
  },
  "language_info": {
   "codemirror_mode": {
    "name": "ipython",
    "version": 3
   },
   "file_extension": ".py",
   "mimetype": "text/x-python",
   "name": "python",
   "nbconvert_exporter": "python",
   "pygments_lexer": "ipython3",
   "version": "3.7.4"
  }
 },
 "nbformat": 4,
 "nbformat_minor": 2
}
